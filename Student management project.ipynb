{
 "cells": [
  {
   "cell_type": "code",
   "execution_count": 10,
   "id": "b5f356b7-17d6-4747-80a3-c1c14d5f0257",
   "metadata": {},
   "outputs": [
    {
     "data": {
      "text/plain": [
       "set"
      ]
     },
     "execution_count": 10,
     "metadata": {},
     "output_type": "execute_result"
    }
   ],
   "source": [
    "\"\"\" STUDENT MANAGEMENT\n",
    "\n",
    "Project Outline:\n",
    "Menu Display:\n",
    "\n",
    "Show a menu with options to Add Student, View All Students, Remove Student, and Exit.\n",
    "Use a while loop to keep the menu running until the user decides to exit.\n",
    "Add Student:\n",
    "\n",
    "Create a function that takes student details (ID, name, age, grade) as input.\n",
    "Store each student's details as a tuple, ensuring the student ID is unique (use a set to track IDs).\n",
    "Append each student tuple to a list called student_records.\n",
    "View All Students:\n",
    "\n",
    "Create a function that iterates over student_records using a for loop.\n",
    "Print each student’s details in a structured format.\n",
    "Remove Student:\n",
    "\n",
    "Create a function to remove a student by their ID.\n",
    "If the ID exists in student_records, delete the tuple and remove the ID from the set.\n",
    "Exit:\n",
    "\n",
    "End the program when the user selects \"Exit\" in the menu.\n",
    "\"\"\"\n",
    "\n",
    "\n",
    "\n",
    "\n",
    "student_records = []\n",
    "student_ids = set()\n",
    "\n",
    "type(student_ids)"
   ]
  },
  {
   "cell_type": "code",
   "execution_count": 14,
   "id": "75d15021-4353-440d-98df-2b9b219e54f5",
   "metadata": {},
   "outputs": [],
   "source": [
    "def add_student():\n",
    "    student_id = input(\"Enter Student ID\")\n",
    "    if student_id in student_ids:\n",
    "        print(\"Student already existing\")\n",
    "        return\n",
    "\n",
    "\n",
    "    name = input(\"Enter student's name\")\n",
    "    age = input(\"Enter student's age\")\n",
    "    grade = input(\"Enter student's grade\")\n",
    "\n",
    "    student = (student_id, name, age, grade)\n",
    "\n",
    "    student_ids.add(student_id)\n",
    "    student_records.append(student)\n",
    "\n",
    "    print(\"Student Added Successfully\")\n",
    "        "
   ]
  },
  {
   "cell_type": "code",
   "execution_count": 15,
   "id": "b2435897-5757-4f40-b7cf-ed1654f10876",
   "metadata": {},
   "outputs": [
    {
     "name": "stdin",
     "output_type": "stream",
     "text": [
      "Enter Student ID 3151051\n",
      "Enter student's name Varsha\n",
      "Enter student's age 16\n",
      "Enter student's grade A\n"
     ]
    },
    {
     "name": "stdout",
     "output_type": "stream",
     "text": [
      "Student Added Successfully\n"
     ]
    }
   ],
   "source": [
    "add_student()"
   ]
  },
  {
   "cell_type": "code",
   "execution_count": 16,
   "id": "0a25a0ef-4c7b-4107-a1d6-fcd350b3632b",
   "metadata": {},
   "outputs": [
    {
     "name": "stdout",
     "output_type": "stream",
     "text": [
      "[('448611', 'Vinit', '18', 'A'), ('3151051', 'Varsha', '16', 'A')]\n"
     ]
    }
   ],
   "source": [
    "print(student_records)"
   ]
  },
  {
   "cell_type": "code",
   "execution_count": 20,
   "id": "c7aa1e84-8a44-4b48-88c7-c534bd3ac8c4",
   "metadata": {
    "scrolled": true
   },
   "outputs": [
    {
     "name": "stdout",
     "output_type": "stream",
     "text": [
      "\n",
      "Student Management System\n",
      "1. Add Student\n",
      "2. View Student\n",
      "3. Remove Student\n",
      "4. Exit from records\n"
     ]
    },
    {
     "name": "stdin",
     "output_type": "stream",
     "text": [
      "Choose between 1 to 4 2\n"
     ]
    },
    {
     "name": "stdout",
     "output_type": "stream",
     "text": [
      "ID: 448611 Name: Vinit Age: 18 Grade: A\n",
      "ID: 3151051 Name: Varsha Age: 16 Grade: A\n",
      "\n",
      "Student Management System\n",
      "1. Add Student\n",
      "2. View Student\n",
      "3. Remove Student\n",
      "4. Exit from records\n"
     ]
    },
    {
     "name": "stdin",
     "output_type": "stream",
     "text": [
      "Choose between 1 to 4 4\n"
     ]
    }
   ],
   "source": [
    "def add_student():\n",
    "    student_id = input(\"Enter Student ID\")\n",
    "    if student_id in student_ids:\n",
    "        print(\"Student already existing\")\n",
    "        return\n",
    "\n",
    "\n",
    "    name = input(\"Enter student's name\")\n",
    "    age = input(\"Enter student's age\")\n",
    "    grade = input(\"Enter student's grade\")\n",
    "\n",
    "    student = (student_id, name, age, grade)\n",
    "\n",
    "    student_ids.add(student_id)\n",
    "    student_records.append(student)\n",
    "\n",
    "    print(\"Student Added Successfully\")\n",
    "\n",
    "def view_records():\n",
    "    if not student_records:\n",
    "        print(\"Your record is empty\")\n",
    "\n",
    "    else:\n",
    "        for student in student_records:\n",
    "            print(\"ID:\", student[0], \"Name:\", student[1], \"Age:\", student[2], \"Grade:\", student[3])\n",
    "\n",
    "def remove_student():\n",
    "    student_id = input(\"Enter student ID\")\n",
    "    if student_id in student_ids:\n",
    "        for student in student_records:\n",
    "            if student[0] == student_id:\n",
    "                student_ids.remove(student_id)\n",
    "                student_records.remove(student)\n",
    "                print(\"Student removed successfully\")\n",
    "\n",
    "    else:\n",
    "        print(\"Invalid student ID or student doesn't exist\")\n",
    "\n",
    "while True:\n",
    "\n",
    "    print(\"\\nStudent Management System\")\n",
    "    print(\"1. Add Student\")\n",
    "    print(\"2. View Student\")\n",
    "    print(\"3. Remove Student\")\n",
    "    print(\"4. Exit from records\")\n",
    "\n",
    "    choice = input(\"Choose between 1 to 4\")\n",
    "\n",
    "    if choice == \"1\":\n",
    "        add_student()\n",
    "\n",
    "    elif choice == \"2\":\n",
    "        view_records()\n",
    "\n",
    "    elif choice == \"3\":\n",
    "        remove_student()\n",
    "\n",
    "    elif choice == \"4\":\n",
    "        break\n",
    "        print(\"Exiting from the records\")\n",
    "\n",
    "    else:\n",
    "        print(\"Invalid choice, Please try again!\")\n",
    "    \n",
    "    "
   ]
  },
  {
   "cell_type": "code",
   "execution_count": null,
   "id": "ca2b1a02-1c7e-41bc-944c-68d24aae1068",
   "metadata": {},
   "outputs": [],
   "source": []
  }
 ],
 "metadata": {
  "kernelspec": {
   "display_name": "Python 3 (ipykernel)",
   "language": "python",
   "name": "python3"
  },
  "language_info": {
   "codemirror_mode": {
    "name": "ipython",
    "version": 3
   },
   "file_extension": ".py",
   "mimetype": "text/x-python",
   "name": "python",
   "nbconvert_exporter": "python",
   "pygments_lexer": "ipython3",
   "version": "3.13.0"
  }
 },
 "nbformat": 4,
 "nbformat_minor": 5
}
